{
  "cells": [
    {
      "cell_type": "markdown",
      "metadata": {},
      "source": [
        "# Database Migration with Alembic"
      ]
    },
    {
      "cell_type": "code",
      "execution_count": null,
      "metadata": {
        "colab": {
          "base_uri": "https://localhost:8080/"
        },
        "id": "HXNseAPwEMy2",
        "outputId": "3540254d-a991-40d9-d7b8-3b2d3bd6eeb6"
      },
      "outputs": [],
      "source": [
        "# Install dependencies\n",
        "!pip install alembic\n",
        "!pip install sqlmodel"
      ]
    },
    {
      "cell_type": "code",
      "execution_count": null,
      "metadata": {
        "colab": {
          "base_uri": "https://localhost:8080/"
        },
        "id": "gtO-Dm5cEMy6",
        "outputId": "a38d3075-8d05-419e-e1ed-bec121915199"
      },
      "outputs": [],
      "source": [
        "# alembic initialization\n",
        "!alembic init alembic"
      ]
    },
    {
      "cell_type": "markdown",
      "metadata": {},
      "source": [
        "Running `alembic init alembic` creates a \n",
        "- a folder alembic (migration environment)\n",
        "    - versions: folder with all the migrations file\n",
        "    - env.py: environement file (create the connections, get the table metadata)\n",
        "    - script.py.mako: template of the migration file\n",
        "- alembic.ini config file"
      ]
    },
    {
      "cell_type": "code",
      "execution_count": null,
      "metadata": {
        "id": "iYscRIxpEk4V"
      },
      "outputs": [],
      "source": [
        "# Create the sqlite database \n",
        "import sqlite3\n",
        "c = sqlite3.connect(\"project.db\")"
      ]
    },
    {
      "cell_type": "markdown",
      "metadata": {},
      "source": [
        "## Define the tables with SQLModel"
      ]
    },
    {
      "cell_type": "code",
      "execution_count": 2,
      "metadata": {
        "colab": {
          "base_uri": "https://localhost:8080/"
        },
        "id": "_4uGI8kiEMy6",
        "outputId": "beed515b-27f6-49c6-eb2b-c2638382428b"
      },
      "outputs": [
        {
          "name": "stdout",
          "output_type": "stream",
          "text": [
            "Overwriting models.py\n"
          ]
        }
      ],
      "source": [
        "%%writefile models.py\n",
        "\n",
        "from typing import Optional\n",
        "from sqlmodel import (\n",
        "    Field,\n",
        "    SQLModel,\n",
        "    create_engine,\n",
        "    Relationship\n",
        ")\n",
        "\n",
        "class User(SQLModel, table=True):\n",
        "    __tablename__ = \"users\"\n",
        "    __table_args__ = {'extend_existing': True}\n",
        "\n",
        "    id: Optional[int] = Field(\n",
        "        default=None,\n",
        "        primary_key=True,\n",
        "        index=True,\n",
        "        nullable=False)\n",
        "    first_name: str\n",
        "    last_name: str\n",
        "    number_of_cars: int\n",
        "    team_id: Optional[int] = Field(\n",
        "        index=True,\n",
        "        foreign_key=\"teams.id\",\n",
        "    )\n",
        "\n",
        "    team: \"Team\" = Relationship(back_populates=\"users\",  sa_relationship_kwargs={\"lazy\": \"selectin\"},)\n",
        "\n",
        "\n",
        "class Team(SQLModel, table=True):\n",
        "    __tablename__ = \"teams\"\n",
        "    __table_args__ = {'extend_existing': True}\n",
        "\n",
        "    id: Optional[int] = Field(\n",
        "        default=None,\n",
        "        primary_key=True,\n",
        "        index=True,\n",
        "        nullable=False)\n",
        "    name: str\n",
        "\n",
        "    users: User = Relationship(back_populates=\"team\",  sa_relationship_kwargs={\"lazy\": \"selectin\"},)\n"
      ]
    },
    {
      "cell_type": "markdown",
      "metadata": {},
      "source": [
        "## Alembic setup with sqlmodel"
      ]
    },
    {
      "cell_type": "markdown",
      "metadata": {
        "id": "4AhLWzFPE--o"
      },
      "source": [
        "- Click folder left panel\n",
        "- Open alembic.ini  \n",
        "    - replace the line `sqlalchemy.url = sqlite:////content/project.db`"
      ]
    },
    {
      "cell_type": "code",
      "execution_count": null,
      "metadata": {
        "colab": {
          "base_uri": "https://localhost:8080/"
        },
        "id": "DQ267_2IEMy7",
        "outputId": "4110115a-7903-4de3-e507-3174c789dfba"
      },
      "outputs": [],
      "source": [
        "!alembic current"
      ]
    },
    {
      "cell_type": "code",
      "execution_count": null,
      "metadata": {
        "colab": {
          "base_uri": "https://localhost:8080/"
        },
        "id": "ET4r8PpSEMy8",
        "outputId": "5ca420ac-d53b-4126-9a72-d2a946b5f08e"
      },
      "outputs": [],
      "source": [
        "!alembic history"
      ]
    },
    {
      "cell_type": "markdown",
      "metadata": {},
      "source": [
        "- Insert the following line `import sqlmodel` in the file script.py.mako in the import section\n",
        "    - sqlmodel library is now automatically imported in every migration script.\n",
        "- add the following lines in alembic/env.py\n",
        "```\n",
        "from sqlmodel import SQLModel\n",
        "import models\n",
        "target_metadata = SQLModel.metadata\n",
        "```\n",
        "\n",
        "This tells Alembic to watch the changes inside `models.py` that are stored in the SQLModel.metadata object\n"
      ]
    },
    {
      "cell_type": "markdown",
      "metadata": {},
      "source": [
        "## List of alembic useful commands"
      ]
    },
    {
      "cell_type": "code",
      "execution_count": null,
      "metadata": {},
      "outputs": [],
      "source": [
        "!alembic current"
      ]
    },
    {
      "cell_type": "code",
      "execution_count": null,
      "metadata": {},
      "outputs": [],
      "source": [
        "!alembic history"
      ]
    },
    {
      "cell_type": "code",
      "execution_count": null,
      "metadata": {
        "colab": {
          "base_uri": "https://localhost:8080/"
        },
        "id": "nPtOxlDgEMy9",
        "outputId": "a28fdb94-b5e1-4001-d9a7-b190a9b9d569"
      },
      "outputs": [],
      "source": [
        "\n",
        "# creates a new file migration script in alembic/versions\n",
        "\n",
        "# !alembic revision -m \"create users and teams table\" --autogenerate\n",
        "# !alembic revision -m \"remove number_of_cars in users table\" --autogenerate\n",
        "# !alembic revision -m \"add email in user table\" --autogenerate\n"
      ]
    },
    {
      "cell_type": "code",
      "execution_count": null,
      "metadata": {
        "colab": {
          "base_uri": "https://localhost:8080/"
        },
        "id": "u52_XBMBEMy8",
        "outputId": "dd88ceb1-e3b2-439a-8bf4-b0d87f085035"
      },
      "outputs": [],
      "source": [
        "# update the state of the database to the latest revision (head)\n",
        "!alembic upgrade head"
      ]
    },
    {
      "cell_type": "code",
      "execution_count": null,
      "metadata": {},
      "outputs": [],
      "source": [
        "# downgrade to previous version\n",
        "\n",
        "# !alembic downgrade -1"
      ]
    },
    {
      "cell_type": "markdown",
      "metadata": {},
      "source": [
        "## Quick checks in the database using sql queries"
      ]
    },
    {
      "cell_type": "code",
      "execution_count": null,
      "metadata": {
        "colab": {
          "base_uri": "https://localhost:8080/",
          "height": 53
        },
        "id": "YisDQdLmGUHT",
        "outputId": "362520fb-0c87-4fe7-cc2e-91bc02d74b34"
      },
      "outputs": [],
      "source": [
        "import pandas as pd\n",
        "pd.read_sql_query(\"SELECT * from users\", c)\n"
      ]
    },
    {
      "cell_type": "code",
      "execution_count": null,
      "metadata": {},
      "outputs": [],
      "source": [
        "pd.read_sql_query(\"SELECT * from teams\", c)\n"
      ]
    },
    {
      "cell_type": "code",
      "execution_count": null,
      "metadata": {
        "colab": {
          "base_uri": "https://localhost:8080/",
          "height": 81
        },
        "id": "zkyprYTsGd8d",
        "outputId": "de71814b-a927-4893-fb5f-491f2dc09aef"
      },
      "outputs": [],
      "source": [
        "pd.read_sql_query(\"SELECT * from alembic_version\", c)"
      ]
    },
    {
      "cell_type": "markdown",
      "metadata": {},
      "source": [
        "## Recommended protocol to follow for each migration\n",
        "- Modifiy the models.py file to make the changes\n",
        "- alembic history / current to check that the database is at head (latest)\n",
        "- alembic revision \n",
        "- double check script \n",
        "- alembic upgrade \n",
        "- alembic history / current to check that the new revisio was successful \n",
        "- visualize changes in the database\n",
        "- reload notebook to import the new models\n",
        "- added data if needed with the updated models"
      ]
    },
    {
      "cell_type": "markdown",
      "metadata": {},
      "source": [
        "## Exercises"
      ]
    },
    {
      "cell_type": "code",
      "execution_count": null,
      "metadata": {},
      "outputs": [],
      "source": [
        "from sqlmodel import create_engine, Session\n",
        "from models import User, Team\n",
        "# url = \"sqlite:///project.db\"\n",
        "url = \"sqlite:////content/project.db\"\n",
        "engine = create_engine(url, echo=True)"
      ]
    },
    {
      "cell_type": "markdown",
      "metadata": {},
      "source": [
        "Let's start a new project we need users"
      ]
    },
    {
      "cell_type": "markdown",
      "metadata": {},
      "source": [
        "0. Create the table users and teams with your first migration script\n",
        "    "
      ]
    },
    {
      "cell_type": "markdown",
      "metadata": {},
      "source": [
        "1. Insert 2 users and 2 teams such that\n",
        "    - user_a belongs to team_a\n",
        "    - user_b belongs to team_b"
      ]
    },
    {
      "cell_type": "code",
      "execution_count": null,
      "metadata": {},
      "outputs": [],
      "source": [
        "# TODO"
      ]
    },
    {
      "cell_type": "markdown",
      "metadata": {},
      "source": [
        "We realized the number_of_cars field in the users table in not useful. Can we remove it"
      ]
    },
    {
      "cell_type": "markdown",
      "metadata": {},
      "source": [
        "2. Create second migration script to remove the number_of_cars field\n",
        "    - after upgrading to the latest migration version, try `alembic downgrade -1`. Check table again. Comment.\n",
        "    - upgrade back to the latest migration using `alembic upgrade head`"
      ]
    },
    {
      "cell_type": "markdown",
      "metadata": {},
      "source": [
        "It would be nice to add the email of each user in the users table. It's just {first_name}.{last_name}@axa.com"
      ]
    },
    {
      "cell_type": "markdown",
      "metadata": {},
      "source": [
        "3. Create a third migration script to add the email column. \n",
        "    - Also we can automatically fill the new column using the existing ones. Let's try with a raw sql command inside the migration script using the method `op.execute(#insert raw sql command)` in the upgrade part of the migration script.\n",
        "    - downgrading and upgrading back should give the same initial result (as the data migration is also done in this case)"
      ]
    },
    {
      "cell_type": "markdown",
      "metadata": {},
      "source": [
        "## The End"
      ]
    },
    {
      "cell_type": "markdown",
      "metadata": {},
      "source": [
        "-----"
      ]
    },
    {
      "cell_type": "code",
      "execution_count": null,
      "metadata": {},
      "outputs": [],
      "source": [
        "# some bandaid commands\n",
        "\n",
        "# c.execute(\"alter table users drop column 'email' ;\")\n",
        "# c.commit() \n",
        "\n",
        "# c.execute(\"update alembic_version set version_num = '9673525dbab5';\")\n",
        "# c.commit() \n"
      ]
    }
  ],
  "metadata": {
    "colab": {
      "provenance": []
    },
    "kernelspec": {
      "display_name": "sqlite-venv",
      "language": "python",
      "name": "python3"
    },
    "language_info": {
      "codemirror_mode": {
        "name": "ipython",
        "version": 3
      },
      "file_extension": ".py",
      "mimetype": "text/x-python",
      "name": "python",
      "nbconvert_exporter": "python",
      "pygments_lexer": "ipython3",
      "version": "3.9.10"
    }
  },
  "nbformat": 4,
  "nbformat_minor": 0
}
