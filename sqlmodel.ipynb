{
  "cells": [
    {
      "cell_type": "code",
      "execution_count": null,
      "metadata": {
        "id": "iqVt4gyAu5di"
      },
      "outputs": [],
      "source": [
        "!pip install sqlmodel"
      ]
    },
    {
      "cell_type": "markdown",
      "metadata": {},
      "source": [
        "## Define your tables"
      ]
    },
    {
      "cell_type": "code",
      "execution_count": null,
      "metadata": {
        "id": "aqsAbZ4zu5dm"
      },
      "outputs": [],
      "source": [
        "from typing import Optional\n",
        "\n",
        "from sqlmodel import (\n",
        "    Field,\n",
        "    SQLModel,\n",
        "    Relationship,\n",
        ")\n",
        "\n",
        "\n",
        "class Player(SQLModel, table=True):\n",
        "    __tablename__ = \"players\"\n",
        "    __table_args__ = {'extend_existing': True}\n",
        "    id: Optional[int] = Field(\n",
        "        default=None,\n",
        "        primary_key=True,\n",
        "        index=True,\n",
        "        nullable=False,\n",
        "    )\n",
        "    first_name: str\n",
        "    last_name: str\n",
        "    \n",
        "    country_id: int = Field(\n",
        "        index=True,\n",
        "        foreign_key=\"countries.id\",\n",
        "    )\n",
        "    # country: \"Country\" = Relationship(back_populates=\"players\",  sa_relationship_kwargs={\"lazy\": \"selectin\"},)\n",
        "\n",
        "\n",
        "\n",
        "class Country(SQLModel, table=True):\n",
        "    __tablename__ = \"countries\"\n",
        "    __table_args__ = {'extend_existing': True}\n",
        "    id: Optional[int] = Field(\n",
        "        default=None,\n",
        "        primary_key=True,\n",
        "        index=True,\n",
        "        nullable=False,\n",
        "    )\n",
        "    name: str\n",
        "    # players: list[Player] = Relationship(back_populates=\"country\", sa_relationship_kwargs={\"lazy\": \"selectin\"},)\n"
      ]
    },
    {
      "cell_type": "code",
      "execution_count": null,
      "metadata": {
        "colab": {
          "base_uri": "https://localhost:8080/"
        },
        "id": "KC2WWAlp8Dqv",
        "outputId": "2be6daff-ec05-4709-c1aa-2fb2e2fa6515"
      },
      "outputs": [],
      "source": [
        "from pprint import pprint\n",
        "pprint(dict(SQLModel.metadata.tables))"
      ]
    },
    {
      "cell_type": "markdown",
      "metadata": {
        "id": "7YsKUuMWyR0G"
      },
      "source": [
        "### Setup \n",
        "- Create sqlite db \n",
        "- Create engine"
      ]
    },
    {
      "cell_type": "code",
      "execution_count": null,
      "metadata": {
        "colab": {
          "base_uri": "https://localhost:8080/"
        },
        "id": "wFl-o_DCyUdJ",
        "outputId": "301add87-119c-434a-daeb-1e72424925d1"
      },
      "outputs": [],
      "source": [
        "from sqlmodel import create_engine\n",
        "import sqlite3\n",
        "import pandas as pd\n",
        "con = sqlite3.connect('test.db')\n",
        "\n",
        "# url = \"sqlite:///test.db\"\n",
        "url = \"sqlite:////content/test.db\"\n",
        "engine = create_engine(url, echo=True) # echo=True to display the sql log"
      ]
    },
    {
      "cell_type": "code",
      "execution_count": null,
      "metadata": {},
      "outputs": [],
      "source": [
        "SQLModel.metadata.create_all(engine)"
      ]
    },
    {
      "cell_type": "markdown",
      "metadata": {},
      "source": [
        "### Check database with SQL queries"
      ]
    },
    {
      "cell_type": "code",
      "execution_count": null,
      "metadata": {},
      "outputs": [],
      "source": [
        "pd.read_sql_query(\"SELECT * from countries\", con)\n",
        "\n"
      ]
    },
    {
      "cell_type": "code",
      "execution_count": null,
      "metadata": {},
      "outputs": [],
      "source": [
        "pd.read_sql_query(\"SELECT * from players\", con)\n"
      ]
    },
    {
      "cell_type": "markdown",
      "metadata": {},
      "source": [
        "## SQLModel basic operations and features"
      ]
    },
    {
      "cell_type": "markdown",
      "metadata": {},
      "source": [
        "#### Add rows to a table"
      ]
    },
    {
      "cell_type": "code",
      "execution_count": null,
      "metadata": {},
      "outputs": [],
      "source": [
        "from sqlmodel import Session\n",
        "with Session(engine) as session:\n",
        "    session.add(Country(id=1, name=\"France\"))\n",
        "    session.add(Country(id=2, name=\"Norway\"))\n",
        "    session.add(Country(id=3, name=\"China\"))\n",
        "    session.commit()"
      ]
    },
    {
      "cell_type": "markdown",
      "metadata": {},
      "source": [
        "#### Select rows from table"
      ]
    },
    {
      "cell_type": "code",
      "execution_count": null,
      "metadata": {},
      "outputs": [],
      "source": [
        "from sqlmodel import Session, select\n",
        "with Session(engine) as session:\n",
        "    stmt = select(Country)\n",
        "    result = session.exec(stmt)\n",
        "    countries = result.all()"
      ]
    },
    {
      "cell_type": "code",
      "execution_count": null,
      "metadata": {},
      "outputs": [],
      "source": [
        "print(f\"sql statement: \\n {stmt} \\n\")\n",
        "print(f\"result: \\n {countries}\")"
      ]
    },
    {
      "cell_type": "markdown",
      "metadata": {},
      "source": [
        "#### Select rows from table with condition"
      ]
    },
    {
      "cell_type": "code",
      "execution_count": null,
      "metadata": {},
      "outputs": [],
      "source": [
        "from sqlmodel import Session, select\n",
        "with Session(engine) as session:\n",
        "    stmt = select(Country).where(Country.name == \"France\")\n",
        "    result = session.exec(stmt)\n",
        "    country = result.all()"
      ]
    },
    {
      "cell_type": "code",
      "execution_count": null,
      "metadata": {},
      "outputs": [],
      "source": [
        "print(f\"sql statement: \\n {stmt} \\n\")\n",
        "print(f\"result: \\n {country}\")"
      ]
    },
    {
      "cell_type": "markdown",
      "metadata": {},
      "source": [
        "#### Add rows with foreign key"
      ]
    },
    {
      "cell_type": "markdown",
      "metadata": {},
      "source": [
        "- Add a chess player from each country in the players table."
      ]
    },
    {
      "cell_type": "code",
      "execution_count": null,
      "metadata": {},
      "outputs": [],
      "source": [
        "with Session(engine) as session:\n",
        "    session.add(Player(id=1, first_name=\"Maxime\", last_name=\"Vachier-Lagrave\", country_id=1))\n",
        "    session.add(Player(id=2, first_name=\"Magnus\", last_name=\"Carlsen\", country_id=2))\n",
        "    session.add(Player(id=3, first_name=\"Liren\", last_name=\"Ding\", country_id=3))\n",
        "    session.commit()"
      ]
    },
    {
      "cell_type": "markdown",
      "metadata": {},
      "source": [
        "#### Select with connected tables "
      ]
    },
    {
      "cell_type": "code",
      "execution_count": null,
      "metadata": {},
      "outputs": [],
      "source": [
        "from sqlmodel import Session, select\n",
        "with Session(engine) as session:\n",
        "    stmt = select(Player, Country).join(Country)\n",
        "    # stmt = select(Player).join(Country).where(Country.name ==\"China\")\n",
        "    # stmt = select(Player, Country).join(Country).where(Country.name ==\"China\")\n",
        "    result = session.exec(stmt)\n",
        "    results = result.all()"
      ]
    },
    {
      "cell_type": "code",
      "execution_count": null,
      "metadata": {},
      "outputs": [],
      "source": [
        "print(f\"sql statement: \\n {stmt} \\n\")\n",
        "print(f\"result: \\n {results}\")"
      ]
    },
    {
      "cell_type": "markdown",
      "metadata": {},
      "source": [
        "### Relationship + lazy selectin "
      ]
    },
    {
      "cell_type": "markdown",
      "metadata": {},
      "source": [
        "- add relationship to each table (uncomment the lines)\n",
        "- restart the notebook\n",
        "- run cell 2 (table definition) and 4 (create engine) \n",
        "- come back here\n"
      ]
    },
    {
      "cell_type": "markdown",
      "metadata": {},
      "source": [
        "#### Select related objects automatically"
      ]
    },
    {
      "cell_type": "code",
      "execution_count": null,
      "metadata": {},
      "outputs": [],
      "source": [
        "from sqlmodel import Session, select\n",
        "with Session(engine) as session:\n",
        "    stmt = select(Player).where(Player.first_name ==\"Maxime\")\n",
        "    result = session.exec(stmt)\n",
        "    results = result.all()"
      ]
    },
    {
      "cell_type": "code",
      "execution_count": null,
      "metadata": {},
      "outputs": [],
      "source": [
        "print(f\"sql statement: \\n {stmt} \\n\")\n",
        "print(f\"result: \\n {results}\")"
      ]
    },
    {
      "cell_type": "markdown",
      "metadata": {},
      "source": [
        "### Insert related objects"
      ]
    },
    {
      "cell_type": "markdown",
      "metadata": {},
      "source": [
        "- Create a new country object\n",
        "- Create 2 new chess players belonging to this country\n",
        "- Set the 2 players as attribute of the new country object leveraging the relationship\n",
        "- Add the country object \n",
        "- Commit\n",
        "- Check the database with a select"
      ]
    },
    {
      "cell_type": "code",
      "execution_count": null,
      "metadata": {},
      "outputs": [],
      "source": [
        "from sqlmodel import Session\n",
        "with Session(engine) as session:\n",
        "    country_usa = Country(id=4, name=\"USA\")\n",
        "    fabiano = Player(first_name=\"Fabiano\", last_name=\"Caruana\")\n",
        "    hikaru = Player(first_name=\"Hikaru\", last_name=\"Nakamura\")\n",
        "    country_usa.players = [fabiano, hikaru]\n",
        "    session.add(country_usa)\n",
        "    session.commit()"
      ]
    },
    {
      "cell_type": "code",
      "execution_count": null,
      "metadata": {},
      "outputs": [],
      "source": [
        "from sqlmodel import Session, select\n",
        "with Session(engine) as session:\n",
        "    stmt = select(Country).where(Country.name ==\"USA\")\n",
        "    result = session.exec(stmt)\n",
        "    result = result.one()\n"
      ]
    },
    {
      "cell_type": "code",
      "execution_count": null,
      "metadata": {},
      "outputs": [],
      "source": [
        "print(repr(result))"
      ]
    },
    {
      "cell_type": "markdown",
      "metadata": {},
      "source": [
        "### Delete row "
      ]
    },
    {
      "cell_type": "markdown",
      "metadata": {},
      "source": [
        "- use the delete function in the same way as the insert to delete a player"
      ]
    },
    {
      "cell_type": "code",
      "execution_count": null,
      "metadata": {},
      "outputs": [],
      "source": [
        "from sqlmodel import Session, delete\n",
        "with Session(engine) as session:\n",
        "    stmt = delete(Player).where(Player.first_name ==\"Hikaru\")\n",
        "    result = session.exec(stmt)\n",
        "    session.commit()"
      ]
    },
    {
      "cell_type": "code",
      "execution_count": null,
      "metadata": {},
      "outputs": [],
      "source": [
        "print(f\"sql statement: \\n {stmt} \\n\")\n",
        "pd.read_sql_query(\"SELECT * from players\", con)\n"
      ]
    },
    {
      "cell_type": "markdown",
      "metadata": {},
      "source": [
        "### Update row (TBD)"
      ]
    }
  ],
  "metadata": {
    "colab": {
      "provenance": []
    },
    "kernelspec": {
      "display_name": "Python 3",
      "name": "python3"
    },
    "language_info": {
      "codemirror_mode": {
        "name": "ipython",
        "version": 3
      },
      "file_extension": ".py",
      "mimetype": "text/x-python",
      "name": "python",
      "nbconvert_exporter": "python",
      "pygments_lexer": "ipython3",
      "version": "3.9.10"
    }
  },
  "nbformat": 4,
  "nbformat_minor": 0
}
