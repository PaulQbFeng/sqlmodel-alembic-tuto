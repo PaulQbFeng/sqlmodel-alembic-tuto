{
 "cells": [
  {
   "cell_type": "code",
   "execution_count": null,
   "metadata": {},
   "outputs": [],
   "source": [
    "!pip install sqlmodel"
   ]
  },
  {
   "cell_type": "code",
   "execution_count": null,
   "metadata": {},
   "outputs": [],
   "source": [
    "from typing import Optional\n",
    "\n",
    "from sqlmodel import (\n",
    "    Field,\n",
    "    SQLModel,\n",
    "    text,\n",
    "    Relationship,\n",
    "    create_engine\n",
    ")\n",
    "import uuid\n",
    "\n",
    "\n",
    "class Hero(SQLModel, table=True):\n",
    "    id: Optional[uuid.UUID] = Field(\n",
    "        default=None,\n",
    "        primary_key=True,\n",
    "        index=True,\n",
    "        nullable=False,\n",
    "        sa_column_kwargs={\"server_default\": text(\"gen_random_uuid()\"), \"unique\": True},\n",
    "    )\n",
    "    team_id: Optional[uuid.UUID] = Field(\n",
    "        default=None,\n",
    "        index=True,\n",
    "        foreign_key=\"team.id\",\n",
    "    )\n",
    "    name: str\n",
    "    secret_name: str\n",
    "    age: Optional[int] = None"
   ]
  },
  {
   "cell_type": "code",
   "execution_count": null,
   "metadata": {},
   "outputs": [],
   "source": [
    "import sqlite3"
   ]
  },
  {
   "cell_type": "code",
   "execution_count": null,
   "metadata": {},
   "outputs": [],
   "source": [
    "\n",
    "c = sqlite3.connect('test.db')\n",
    "\n",
    "url = \"sqlite:////content/test.db\"\n",
    "\n",
    "engine = create_engine(url, echo=True)\n",
    "\n",
    "\n",
    "def create_db_and_tables():\n",
    "    SQLModel.metadata.create_all(engine)\n",
    "\n",
    "\n",
    "if __name__ == \"__main__\":\n",
    "    create_db_and_tables()\n"
   ]
  }
 ],
 "metadata": {
  "language_info": {
   "name": "python"
  }
 },
 "nbformat": 4,
 "nbformat_minor": 2
}
